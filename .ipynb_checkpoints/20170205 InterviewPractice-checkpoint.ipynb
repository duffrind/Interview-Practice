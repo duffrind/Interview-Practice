{
 "cells": [
  {
   "cell_type": "markdown",
   "metadata": {},
   "source": [
    "# Interview Practice\n",
    "https://techiedelight.quora.com/Top-Algorithms-Data-Structures-Concepts-every-computer-science-student-should-know"
   ]
  },
  {
   "cell_type": "code",
   "execution_count": 144,
   "metadata": {
    "collapsed": false
   },
   "outputs": [],
   "source": [
    "from time import clock\n",
    "from numpy import random as nprnd\n",
    "from matplotlib import pyplot as plt\n",
    "from math import log\n",
    "#import matplotlib.pyplot as plt"
   ]
  },
  {
   "cell_type": "markdown",
   "metadata": {},
   "source": [
    "## Sorting"
   ]
  },
  {
   "cell_type": "code",
   "execution_count": 103,
   "metadata": {
    "collapsed": true
   },
   "outputs": [],
   "source": [
    "def check_sort(function):\n",
    "    \"\"\"Inputs:\n",
    "function: A sorting algorithm pass in as a parameter (without '()')\n",
    "\n",
    "Outputs: Returns a string containing test status (Pass/Fail)\n",
    "\"\"\"\n",
    "    nprnd.seed(500)\n",
    "    unsorted = nprnd.randint(10000, size=1000).tolist()\n",
    "    try:\n",
    "        assert function(unsorted) == sorted(unsorted)\n",
    "    except:\n",
    "        return 'Test Failed'\n",
    "    return 'Test Passed'"
   ]
  },
  {
   "cell_type": "code",
   "execution_count": 265,
   "metadata": {
    "collapsed": false
   },
   "outputs": [],
   "source": [
    "def check_complexity(function, sort='unsorted'):\n",
    "    \"\"\"Inputs:\n",
    "function: A sorting function passed in as a parameter (without '()')\n",
    "sort: A string from ['ascending', 'descending', other] to test the sorting\n",
    "algorithm's complexity in that case. Defaults to unsorted.\n",
    "\n",
    "Outputs: Returns a string of the computed time complexity\n",
    "\"\"\"\n",
    "    nsquared_weighted_average_list = [] # holds the moving weighted average \n",
    "    nlogn_weighted_average_list = []\n",
    "    n_weighted_average_list = []\n",
    "    array_size = 1000\n",
    "    while array_size < 10000:\n",
    "        nprnd.seed(500)\n",
    "        array = nprnd.randint(10000, size=array_size).tolist()\n",
    "        if sort == 'ascending':\n",
    "            array = sorted(array)\n",
    "        elif sort == 'descending':\n",
    "            array = sorted(array, reverse=True)\n",
    "        start_time = clock()\n",
    "        function(array)\n",
    "        end_time = clock()\n",
    "        time = end_time - start_time\n",
    "        nsquared = time / (array_size * array_size)\n",
    "        nlogn = time / (array_size * log(array_size))\n",
    "        n = time / array_size\n",
    "        nsquared_weighted_average_list.append(nsquared)\n",
    "        nlogn_weighted_average_list.append(nlogn)\n",
    "        n_weighted_average_list.append(n)\n",
    "        array_size = array_size * 2\n",
    "    nsquared_average_change = ((max(nsquared_weighted_average_list)\n",
    "                               - min(nsquared_weighted_average_list)) \n",
    "                               / (sum(nsquared_weighted_average_list)\n",
    "                               / len(nsquared_weighted_average_list)))\n",
    "    nlogn_average_change = ((max(nlogn_weighted_average_list)\n",
    "                            - min(nlogn_weighted_average_list))\n",
    "                            / (sum(nlogn_weighted_average_list)\n",
    "                            / len(nlogn_weighted_average_list)))\n",
    "    n_average_change = ((max(n_weighted_average_list)\n",
    "                        - min(n_weighted_average_list))\n",
    "                        / (sum(n_weighted_average_list)\n",
    "                        / len(n_weighted_average_list)))\n",
    "    complexity_dict = {nsquared_average_change: 'O(N^2)',\n",
    "                      nlogn_average_change: 'O(NlogN)',\n",
    "                      n_average_change: 'O(N)'}\n",
    "    return complexity_dict[min(complexity_dict)]"
   ]
  },
  {
   "cell_type": "markdown",
   "metadata": {},
   "source": [
    "### Insertion Sort"
   ]
  },
  {
   "cell_type": "code",
   "execution_count": 4,
   "metadata": {
    "collapsed": true
   },
   "outputs": [],
   "source": [
    "def insertion(array):\n",
    "    for i in range(1, len(array)): # from first to last element\n",
    "        for j in range(i, 0, -1): # from ith to first element\n",
    "            if array[j] < array[j-1]:\n",
    "                temp = array[j]\n",
    "                array[j] = array[j-1]\n",
    "                array[j-1] = temp\n",
    "            else:\n",
    "                break\n",
    "    return array"
   ]
  },
  {
   "cell_type": "code",
   "execution_count": 185,
   "metadata": {
    "collapsed": false
   },
   "outputs": [
    {
     "name": "stdout",
     "output_type": "stream",
     "text": [
      "Test Succeeded\n"
     ]
    }
   ],
   "source": [
    "print(check_sort(insertion))"
   ]
  },
  {
   "cell_type": "markdown",
   "metadata": {},
   "source": [
    "#### Average Case:"
   ]
  },
  {
   "cell_type": "code",
   "execution_count": 188,
   "metadata": {
    "collapsed": false
   },
   "outputs": [
    {
     "name": "stdout",
     "output_type": "stream",
     "text": [
      "O(N^2)\n"
     ]
    }
   ],
   "source": [
    "print(check_complexity(insertion))"
   ]
  },
  {
   "cell_type": "markdown",
   "metadata": {},
   "source": [
    "#### Best Case: "
   ]
  },
  {
   "cell_type": "code",
   "execution_count": 189,
   "metadata": {
    "collapsed": false
   },
   "outputs": [
    {
     "name": "stdout",
     "output_type": "stream",
     "text": [
      "O(N)\n"
     ]
    }
   ],
   "source": [
    "print(check_complexity(insertion, 'ascending'))"
   ]
  },
  {
   "cell_type": "markdown",
   "metadata": {},
   "source": [
    "#### Worst Case:"
   ]
  },
  {
   "cell_type": "code",
   "execution_count": 190,
   "metadata": {
    "collapsed": false
   },
   "outputs": [
    {
     "name": "stdout",
     "output_type": "stream",
     "text": [
      "O(N^2)\n"
     ]
    }
   ],
   "source": [
    "print(check_complexity(insertion, 'descending'))"
   ]
  },
  {
   "cell_type": "markdown",
   "metadata": {},
   "source": [
    "### Selection Sort"
   ]
  },
  {
   "cell_type": "code",
   "execution_count": 64,
   "metadata": {
    "collapsed": true
   },
   "outputs": [],
   "source": [
    "def selection(array):\n",
    "    for i in range(0, len(array)): # from first to last element\n",
    "        smallest_number = i\n",
    "        for j in range(i + 1, len(array)): # from ith to last element\n",
    "            if array[j] < array[smallest_number]:\n",
    "                smallest_number = j\n",
    "        temp = array[smallest_number]\n",
    "        array[smallest_number] = array[i]\n",
    "        array[i] = temp\n",
    "    return array"
   ]
  },
  {
   "cell_type": "code",
   "execution_count": 83,
   "metadata": {
    "collapsed": false
   },
   "outputs": [
    {
     "data": {
      "text/plain": [
       "'Test Succeeded'"
      ]
     },
     "execution_count": 83,
     "metadata": {},
     "output_type": "execute_result"
    }
   ],
   "source": [
    "print(check_sort(selection))"
   ]
  },
  {
   "cell_type": "markdown",
   "metadata": {},
   "source": [
    "#### Average Case:"
   ]
  },
  {
   "cell_type": "code",
   "execution_count": 195,
   "metadata": {
    "collapsed": false
   },
   "outputs": [
    {
     "name": "stdout",
     "output_type": "stream",
     "text": [
      "O(N^2)\n"
     ]
    }
   ],
   "source": [
    "print(check_complexity(selection))"
   ]
  },
  {
   "cell_type": "markdown",
   "metadata": {},
   "source": [
    "#### Best Case:"
   ]
  },
  {
   "cell_type": "code",
   "execution_count": 196,
   "metadata": {
    "collapsed": false
   },
   "outputs": [
    {
     "name": "stdout",
     "output_type": "stream",
     "text": [
      "O(N^2)\n"
     ]
    }
   ],
   "source": [
    "print(check_complexity(selection, 'ascending'))"
   ]
  },
  {
   "cell_type": "markdown",
   "metadata": {},
   "source": [
    "#### Worst Case:"
   ]
  },
  {
   "cell_type": "code",
   "execution_count": 197,
   "metadata": {
    "collapsed": false
   },
   "outputs": [
    {
     "name": "stdout",
     "output_type": "stream",
     "text": [
      "O(N^2)\n"
     ]
    }
   ],
   "source": [
    "print(check_complexity(selection, 'descending'))"
   ]
  },
  {
   "cell_type": "markdown",
   "metadata": {},
   "source": [
    "### Bubble Sort"
   ]
  },
  {
   "cell_type": "code",
   "execution_count": 88,
   "metadata": {
    "collapsed": true
   },
   "outputs": [],
   "source": [
    "def bubble(array):\n",
    "    for i in range(len(array) - 1, 0, -1): # from last to first element\n",
    "        done = True\n",
    "        for j in range(0, i): # from first to ith element\n",
    "            if array[j] > array[j + 1]:\n",
    "                done = False\n",
    "                temp = array[j]\n",
    "                array[j] = array[j + 1]\n",
    "                array[j + 1] = temp\n",
    "        if done:\n",
    "            break\n",
    "    return array"
   ]
  },
  {
   "cell_type": "code",
   "execution_count": 170,
   "metadata": {
    "collapsed": false
   },
   "outputs": [
    {
     "name": "stdout",
     "output_type": "stream",
     "text": [
      "Test Succeeded\n"
     ]
    }
   ],
   "source": [
    "print(check_sort(bubble))"
   ]
  },
  {
   "cell_type": "markdown",
   "metadata": {},
   "source": [
    "#### Average Case:"
   ]
  },
  {
   "cell_type": "code",
   "execution_count": 198,
   "metadata": {
    "collapsed": false
   },
   "outputs": [
    {
     "name": "stdout",
     "output_type": "stream",
     "text": [
      "O(N^2)\n"
     ]
    }
   ],
   "source": [
    "print(check_complexity(bubble))"
   ]
  },
  {
   "cell_type": "markdown",
   "metadata": {},
   "source": [
    "#### Best Case:"
   ]
  },
  {
   "cell_type": "code",
   "execution_count": 199,
   "metadata": {
    "collapsed": false
   },
   "outputs": [
    {
     "name": "stdout",
     "output_type": "stream",
     "text": [
      "O(N)\n"
     ]
    }
   ],
   "source": [
    "print(check_complexity(bubble, 'ascending'))"
   ]
  },
  {
   "cell_type": "markdown",
   "metadata": {},
   "source": [
    "#### Worst Case:"
   ]
  },
  {
   "cell_type": "code",
   "execution_count": 200,
   "metadata": {
    "collapsed": false
   },
   "outputs": [
    {
     "name": "stdout",
     "output_type": "stream",
     "text": [
      "O(N^2)\n"
     ]
    }
   ],
   "source": [
    "print(check_complexity(bubble, 'descending'))"
   ]
  },
  {
   "cell_type": "markdown",
   "metadata": {
    "collapsed": true
   },
   "source": [
    "### Merge Sort"
   ]
  },
  {
   "cell_type": "code",
   "execution_count": 267,
   "metadata": {
    "collapsed": true
   },
   "outputs": [],
   "source": [
    "def mergeSort(array):\n",
    "    if len(array) > 1: # base case: array is one element\n",
    "        mid = len(array) // 2 # floor divide\n",
    "        left = array[:mid]\n",
    "        right = array[mid:]\n",
    "\n",
    "        mergeSort(left)\n",
    "        mergeSort(right)\n",
    "\n",
    "        i = 0\n",
    "        j = 0\n",
    "        k = 0\n",
    "        while i < len(left) and j < len(right):\n",
    "            if left[i] < right[j]:\n",
    "                array[k] = left[i]\n",
    "                i += 1\n",
    "            else:\n",
    "                array[k] = right[j]\n",
    "                j += 1\n",
    "            k += 1\n",
    "\n",
    "        while i < len(left):\n",
    "            array[k] = left[i]\n",
    "            i += 1\n",
    "            k += 1\n",
    "\n",
    "        while j < len(right):\n",
    "            array[k] = right[j]\n",
    "            j += 1\n",
    "            k += 1\n",
    "        return array"
   ]
  },
  {
   "cell_type": "code",
   "execution_count": 268,
   "metadata": {
    "collapsed": false
   },
   "outputs": [
    {
     "data": {
      "text/plain": [
       "'Test Succeeded'"
      ]
     },
     "execution_count": 268,
     "metadata": {},
     "output_type": "execute_result"
    }
   ],
   "source": [
    "check_sort(mergeSort)"
   ]
  },
  {
   "cell_type": "markdown",
   "metadata": {},
   "source": [
    "#### Average Case:"
   ]
  },
  {
   "cell_type": "code",
   "execution_count": 269,
   "metadata": {
    "collapsed": false
   },
   "outputs": [
    {
     "name": "stdout",
     "output_type": "stream",
     "text": [
      "O(NlogN)\n"
     ]
    }
   ],
   "source": [
    "print(check_complexity(mergeSort))"
   ]
  },
  {
   "cell_type": "markdown",
   "metadata": {},
   "source": [
    "#### Best Case:"
   ]
  },
  {
   "cell_type": "code",
   "execution_count": 272,
   "metadata": {
    "collapsed": false
   },
   "outputs": [
    {
     "name": "stdout",
     "output_type": "stream",
     "text": [
      "O(NlogN)\n"
     ]
    }
   ],
   "source": [
    "print(check_complexity(mergeSort, 'ascending'))"
   ]
  },
  {
   "cell_type": "markdown",
   "metadata": {},
   "source": [
    "#### Worst Case:"
   ]
  },
  {
   "cell_type": "code",
   "execution_count": 271,
   "metadata": {
    "collapsed": false
   },
   "outputs": [
    {
     "name": "stdout",
     "output_type": "stream",
     "text": [
      "O(NlogN)\n"
     ]
    }
   ],
   "source": [
    "print(check_complexity(mergeSort, 'descending'))"
   ]
  },
  {
   "cell_type": "markdown",
   "metadata": {},
   "source": [
    "### Quicksort"
   ]
  },
  {
   "cell_type": "code",
   "execution_count": null,
   "metadata": {
    "collapsed": false
   },
   "outputs": [],
   "source": []
  },
  {
   "cell_type": "code",
   "execution_count": null,
   "metadata": {
    "collapsed": true
   },
   "outputs": [],
   "source": []
  }
 ],
 "metadata": {
  "kernelspec": {
   "display_name": "Python 3",
   "language": "python",
   "name": "python3"
  },
  "language_info": {
   "codemirror_mode": {
    "name": "ipython",
    "version": 3
   },
   "file_extension": ".py",
   "mimetype": "text/x-python",
   "name": "python",
   "nbconvert_exporter": "python",
   "pygments_lexer": "ipython3",
   "version": "3.6.0"
  }
 },
 "nbformat": 4,
 "nbformat_minor": 2
}
